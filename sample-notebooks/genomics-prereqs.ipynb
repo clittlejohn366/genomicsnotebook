{
 "cells": [
  {
   "attachments": {},
   "cell_type": "markdown",
   "metadata": {},
   "source": [
    "Jupyter notebook is a great tool for data scientists who are working on Genomics data analysis. \n",
    "This is how to install the pre-requisites for Cromwell on Azure. \n",
    "\n",
    "\n",
    "**Here is the coverage of this notebook:**\n",
    "\n",
    "**1.** Download the CoA client\n",
    "\n",
    "**2.** Deploy your instance of Cromwell on Azure\n",
    "\n",
    "\n",
    "\n",
    "\n",
    "\n",
    "**Install Azure CLI**\n",
    "Reference link:  https://learn.microsoft.com/en-us/cli/azure/install-azure-cli-linux?pivots=apt\n"
   ]
  },
  {
   "cell_type": "code",
   "execution_count": null,
   "metadata": {},
   "outputs": [],
   "source": [
    "%%bash\n",
    "curl -sL https://aka.ms/InstallAzureCLIDeb | sudo bash"
   ]
  },
  {
   "attachments": {},
   "cell_type": "markdown",
   "metadata": {},
   "source": [
    "**Download & extract Azure AzCopy**\n",
    "Reference link:  https://learn.microsoft.com/en-us/azure/storage/common/storage-use-azcopy-v10"
   ]
  },
  {
   "cell_type": "code",
   "execution_count": null,
   "metadata": {},
   "outputs": [],
   "source": [
    "%%bash\n",
    "! wget https://aka.ms/downloadazcopy-v10-linux\n",
    "\n",
    "%%bash\n",
    "! tar -xvzf downloadazcopy-v10-linux"
   ]
  },
  {
   "attachments": {},
   "cell_type": "markdown",
   "metadata": {},
   "source": [
    "**Download & extract Cromwell**\n",
    "Reference link:  https://github.com/microsoft/CromwellOnAzure/releases"
   ]
  },
  {
   "cell_type": "code",
   "execution_count": null,
   "metadata": {},
   "outputs": [],
   "source": [
    "%%bash\n",
    "! wget https://github.com/microsoft/CromwellOnAzure/releases/download/4.3.0/deploy-cromwell-on-azure-linux.tar.gz\n",
    "\n",
    "%%bash\n",
    "! tar -xvzf deploy-cromwell-on-azure-linux.tar.gz"
   ]
  },
  {
   "attachments": {},
   "cell_type": "markdown",
   "metadata": {},
   "source": [
    "**Download Picard Jar file**\n",
    "Reference Link:  https://broadinstitute.github.io/picard/\n",
    "This one is currently set to use Release 2.27.5."
   ]
  },
  {
   "cell_type": "code",
   "execution_count": null,
   "metadata": {},
   "outputs": [],
   "source": [
    "%%bash\n",
    "! wget https://github.com/broadinstitute/picard/releases/download/2.27.5/picard.jar"
   ]
  },
  {
   "attachments": {},
   "cell_type": "markdown",
   "metadata": {},
   "source": [
    "**Test Picard**\n",
    "Use these steps to verify the Picard.jar file is compatible with the Java version on the system."
   ]
  },
  {
   "cell_type": "code",
   "execution_count": null,
   "metadata": {},
   "outputs": [],
   "source": [
    "%%bash\n",
    "java -jar picard.jar"
   ]
  },
  {
   "attachments": {},
   "cell_type": "markdown",
   "metadata": {},
   "source": [
    "**Install Helm**\n",
    "Reference Link:  https://helm.sh/docs/intro/install/"
   ]
  },
  {
   "cell_type": "code",
   "execution_count": null,
   "metadata": {},
   "outputs": [],
   "source": [
    "%%bash\n",
    "! wget https://get.helm.sh/helm-v3.12.1-linux-amd64.tar.gz"
   ]
  },
  {
   "attachments": {},
   "cell_type": "markdown",
   "metadata": {},
   "source": [
    "**Download extract GATK**\n",
    "Reference Link:  https://github.com/broadinstitute/gatk/releases\n",
    "\n",
    "Download the package:"
   ]
  },
  {
   "cell_type": "code",
   "execution_count": null,
   "metadata": {},
   "outputs": [],
   "source": [
    "%%bash\n",
    "! wget https://github.com/broadinstitute/gatk/archive/refs/tags/4.4.0.0.tar.gz"
   ]
  },
  {
   "attachments": {},
   "cell_type": "markdown",
   "metadata": {},
   "source": [
    "Extract the Tar File:"
   ]
  },
  {
   "cell_type": "code",
   "execution_count": null,
   "metadata": {},
   "outputs": [],
   "source": [
    "%%bash\n",
    "! tar -xvzf 4.4.0.0.tar.gz"
   ]
  },
  {
   "attachments": {},
   "cell_type": "markdown",
   "metadata": {},
   "source": [
    "**Download CROMWELL**\n",
    "Reference Link:  https://github.com/microsoft/CromwellOnAzure/releases\n",
    "\n",
    "Download the package:"
   ]
  },
  {
   "cell_type": "code",
   "execution_count": null,
   "metadata": {},
   "outputs": [],
   "source": [
    "! wget https://github.com/microsoft/CromwellOnAzure/releases/download/3.0.0/deploy-cromwell-on-azure-linux"
   ]
  },
  {
   "attachments": {},
   "cell_type": "markdown",
   "metadata": {},
   "source": [
    "**Deploy CROMWELL**\n",
    "First Login, this will display a URL and login code.  \n",
    "Click the URL and enter the code."
   ]
  },
  {
   "cell_type": "code",
   "execution_count": null,
   "metadata": {},
   "outputs": [],
   "source": [
    "! az login"
   ]
  },
  {
   "attachments": {},
   "cell_type": "markdown",
   "metadata": {},
   "source": [
    "Next , run the deployment script.\n",
    "This takes a while to run, deploys all the resources in the named prefix resource group in the script parameters.\n",
    "ENTERYOURSUBSCRIPTIONGUID = You can get the subscription ID from the base resource page.  Copy it and use it here.\n",
    "ENTERYOURPREFIX = Resource group prefix\n",
    "ENTERYOURREGION = Not available in all regions."
   ]
  },
  {
   "cell_type": "code",
   "execution_count": null,
   "metadata": {},
   "outputs": [],
   "source": [
    "! ./deploy-cromwell-on-azure-linux --SubscriptionId <ENTERYOURSUBSCRIPTIONGUID> --RegionName <ENTERYOURREGION> --MainIdentifierPrefix <ENTERYOURPREFIX>"
   ]
  }
 ],
 "metadata": {
  "language_info": {
   "name": "python"
  },
  "orig_nbformat": 4
 },
 "nbformat": 4,
 "nbformat_minor": 2
}
